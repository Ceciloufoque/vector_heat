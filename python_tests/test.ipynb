{
 "cells": [
  {
   "cell_type": "code",
   "execution_count": 1,
   "metadata": {},
   "outputs": [],
   "source": [
    "import trimesh\n",
    "import potpourri3d as pp3d\n",
    "import numpy as np\n",
    "import pyvista as pv "
   ]
  },
  {
   "cell_type": "code",
   "execution_count": 2,
   "metadata": {},
   "outputs": [
    {
     "name": "stdout",
     "output_type": "stream",
     "text": [
      "Mesh unified and saved to 'unified_file.obj'\n"
     ]
    }
   ],
   "source": [
    "import trimesh\n",
    "import numpy as np\n",
    "from scipy.spatial import KDTree\n",
    "\n",
    "def unify_vertices(mesh, tolerance=1e-5):\n",
    "    # Extract vertices and faces from the mesh\n",
    "    vertices = mesh.vertices\n",
    "    faces = mesh.faces\n",
    "\n",
    "    # Step 1: Find unique vertices within the given tolerance\n",
    "    kdtree = KDTree(vertices)\n",
    "    unique_indices = {}\n",
    "    canonical_vertices = []\n",
    "    \n",
    "    for i, vertex in enumerate(vertices):\n",
    "        if i in unique_indices:\n",
    "            continue  # Skip if already mapped to a canonical vertex\n",
    "        \n",
    "        # Find all vertices within the tolerance distance\n",
    "        duplicate_indices = kdtree.query_ball_point(vertex, tolerance)\n",
    "        \n",
    "        # Use the first duplicate as the \"canonical\" vertex and map all duplicates to it\n",
    "        canonical_index = len(canonical_vertices)\n",
    "        canonical_vertices.append(vertex)\n",
    "        \n",
    "        for idx in duplicate_indices:\n",
    "            unique_indices[idx] = canonical_index\n",
    "\n",
    "    # Step 2: Update faces to use only unique vertices\n",
    "    new_faces = np.array([[unique_indices[vi] for vi in face] for face in faces])\n",
    "\n",
    "    # Step 3: Create the new unified mesh\n",
    "    unified_mesh = trimesh.Trimesh(vertices=np.array(canonical_vertices), faces=new_faces)\n",
    "\n",
    "    return unified_mesh\n",
    "\n",
    "# Load the OBJ file\n",
    "mesh = trimesh.load('xyzrgb_dragon.obj')\n",
    "\n",
    "# Unify vertices within a specified tolerance\n",
    "unified_mesh = unify_vertices(mesh, tolerance=1e-5)\n",
    "\n",
    "# Save the unified mesh as an OBJ file\n",
    "unified_mesh.export('xyzrgb_dragon_fixed.obj')\n",
    "print(\"Mesh unified and saved to 'unified_file.obj'\")\n"
   ]
  },
  {
   "cell_type": "code",
   "execution_count": 3,
   "metadata": {},
   "outputs": [
    {
     "name": "stdout",
     "output_type": "stream",
     "text": [
      "[5006 5009]\n",
      "[5009 4986]\n",
      "[4986 5009]\n",
      "[5009 5003]\n",
      "[5003 5009]\n",
      "[5009 5020]\n",
      "[5007 5009]\n",
      "[5009 5006]\n",
      "[5009 5007]\n",
      "[5024 5009]\n",
      "[5009 5024]\n",
      "[5020 5009]\n",
      "[ 79 100]\n",
      "[100  82]\n",
      "[ 82 100]\n",
      "[100 118]\n",
      "[100  79]\n",
      "[1963  100]\n",
      "[ 100 1963]\n",
      "[118 100]\n",
      "(124943, 3) (124943,)\n"
     ]
    },
    {
     "data": {
      "application/vnd.jupyter.widget-view+json": {
       "model_id": "e67a5e3cdaea453b9bf25fc9a0f2a29e",
       "version_major": 2,
       "version_minor": 0
      },
      "text/plain": [
       "Widget(value='<iframe src=\"http://localhost:59721/index.html?ui=P_0x1726e1436d0_0&reconnect=auto\" class=\"pyvis…"
      ]
     },
     "metadata": {},
     "output_type": "display_data"
    }
   ],
   "source": [
    "#mesh = trimesh.load('xyzrgb_dragon.obj')\n",
    "mesh = trimesh.load('xyzrgb_dragon_fixed.obj')\n",
    "\n",
    "heat_solver = pp3d.MeshHeatMethodDistanceSolver(mesh.vertices, mesh.faces)\n",
    "#vector_solver = pp3d.MeshVectorHeatSolver(V, F)\n",
    "\n",
    "source_vertex = 100\n",
    "\n",
    "connections = []\n",
    "\n",
    "for point in [5009, source_vertex]:\n",
    "    for edge in mesh.edges:\n",
    "        if edge[0] == point:\n",
    "            print(edge)\n",
    "            connections.append(edge[1])\n",
    "        if edge[1] == point:\n",
    "            print(edge)\n",
    "            connections.append(edge[0])\n",
    "\n",
    "distances = heat_solver.compute_distance(source_vertex)\n",
    "normalized_distances = (distances - distances.min()) / (distances.max() - distances.min())\n",
    "\n",
    "#vectors = vector_solver.transport_tangent_vector(1, (1,0))\n",
    "\n",
    "print(mesh.vertices.shape, distances.shape)#, vectors.shape)\n",
    "\n",
    "faces_with_sizes = np.hstack([np.full((mesh.faces.shape[0], 1), 3), mesh.faces]).flatten()\n",
    "pv_mesh = pv.PolyData(mesh.vertices, faces_with_sizes)\n",
    "\n",
    "# Add distance values as a scalar field for coloring\n",
    "#pv_mesh['Distance'] = normalized_distances\n",
    "\n",
    "\n",
    "# Set up the PyVista plotter\n",
    "plotter = pv.Plotter()\n",
    "plotter.add_mesh(pv_mesh, scalars=normalized_distances, cmap='viridis', show_edges=True)\n",
    "\n",
    "for point in connections:\n",
    "    vertex_0_position = mesh.vertices[point]\n",
    "    plotter.add_points(vertex_0_position.reshape(1, 3), color=\"red\", point_size=10)\n",
    "\n",
    "# Add labels and display\n",
    "#plotter.add_scalar_bar(title=\"Distance from Source Vertex\")\n",
    "plotter.show(title=\"Geodesic Distance Visualization\")\n",
    "\n",
    "plotter.close()"
   ]
  },
  {
   "cell_type": "code",
   "execution_count": 6,
   "metadata": {},
   "outputs": [],
   "source": [
    "plotter.deep_clean()"
   ]
  },
  {
   "cell_type": "code",
   "execution_count": null,
   "metadata": {},
   "outputs": [],
   "source": []
  }
 ],
 "metadata": {
  "kernelspec": {
   "display_name": "Python 3 (ipykernel)",
   "language": "python",
   "name": "python3"
  },
  "language_info": {
   "codemirror_mode": {
    "name": "ipython",
    "version": 3
   },
   "file_extension": ".py",
   "mimetype": "text/x-python",
   "name": "python",
   "nbconvert_exporter": "python",
   "pygments_lexer": "ipython3",
   "version": "3.10.15"
  }
 },
 "nbformat": 4,
 "nbformat_minor": 4
}
