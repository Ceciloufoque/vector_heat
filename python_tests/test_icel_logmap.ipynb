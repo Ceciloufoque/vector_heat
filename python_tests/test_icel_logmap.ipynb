{
 "cells": [
  {
   "cell_type": "code",
   "execution_count": 1,
   "metadata": {},
   "outputs": [],
   "source": [
    "import trimesh\n",
    "import potpourri3d as pp3d\n",
    "import numpy as np\n",
    "import pyvista as pv\n",
    "import matplotlib.pyplot as plt\n",
    "from matplotlib.colors import ListedColormap\n",
    "from PIL import Image"
   ]
  },
  {
   "cell_type": "code",
   "execution_count": 2,
   "metadata": {},
   "outputs": [],
   "source": [
    "def get_scalar_heat_geodesic(mesh, vertex_indices):\n",
    "    heat_solver = pp3d.MeshHeatMethodDistanceSolver(mesh.vertices, mesh.faces)\n",
    "    return heat_solver.compute_distance_multisource(vertex_indices)"
   ]
  },
  {
   "cell_type": "code",
   "execution_count": 3,
   "metadata": {},
   "outputs": [],
   "source": [
    "def get_logmap(mesh, source_vertex):\n",
    "    heat_solver = pp3d.MeshVectorHeatSolver(mesh.vertices, mesh.faces)\n",
    "    return heat_solver.compute_log_map(source_vertex)"
   ]
  },
  {
   "cell_type": "code",
   "execution_count": 7,
   "metadata": {},
   "outputs": [],
   "source": [
    "def get_colors_from_image(image_path, coordinates):\n",
    "    image = Image.open(image_path)\n",
    "    image = image.convert(\"RGB\")  # Ensure the image is in RGB format\n",
    "    img_array = np.array(image)  # Convert the image to a NumPy array for pixel access\n",
    "\n",
    "    height, width, _ = img_array.shape\n",
    "\n",
    "    def get_bilinear_color(x, y):\n",
    "        # Calculate the integer parts and fractional parts\n",
    "        x0, y0 = int(x), int(y)\n",
    "        dx, dy = x - x0, y - y0\n",
    "\n",
    "        # Handle boundary cases\n",
    "        if x < 0 or y < 0 or x > width - 1 or y > height - 1 :\n",
    "            return np.array([200,200,200])\n",
    "        \n",
    "        x1 = min(x0 + 1, width - 1)\n",
    "        y1 = min(y0 + 1, height - 1)\n",
    "\n",
    "        # Get the pixel values at the four corners\n",
    "        top_left = img_array[y0, x0]\n",
    "        top_right = img_array[y0, x1]\n",
    "        bottom_left = img_array[y1, x0]\n",
    "        bottom_right = img_array[y1, x1]\n",
    "\n",
    "        # Perform bilinear interpolation\n",
    "        top = (1 - dx) * top_left + dx * top_right\n",
    "        bottom = (1 - dx) * bottom_left + dx * bottom_right\n",
    "        interpolated_color = (1 - dy) * top + dy * bottom\n",
    "\n",
    "        return np.array(interpolated_color.astype(int))  # Convert to integer tuple (R, G, B)\n",
    "\n",
    "    # Scale coordinates to image dimensions and get colors\n",
    "    colors = np.array([get_bilinear_color(x * (width - 1), y * (height - 1)) for x, y in coordinates])\n",
    "    return colors"
   ]
  },
  {
   "cell_type": "code",
   "execution_count": 8,
   "metadata": {},
   "outputs": [],
   "source": [
    "def transform_coordinates(coords, sx, sy, tx, ty, theta):\n",
    "    # Create the transformation matrix\n",
    "    transformation_matrix = np.array([\n",
    "        [1/sx * np.cos(theta), -1/sx * np.sin(theta), tx],\n",
    "        [1/sy * np.sin(theta),  1/sy * np.cos(theta), ty],\n",
    "        [0,                  0,                  1]\n",
    "    ])\n",
    "    \n",
    "    # Convert the coordinates to homogeneous form (add a third dimension of 1s)\n",
    "    homogeneous_coords = np.hstack([coords, np.ones((coords.shape[0], 1))])\n",
    "    \n",
    "    # Apply the transformation\n",
    "    transformed_coords = homogeneous_coords @ transformation_matrix.T\n",
    "    \n",
    "    # Return the first two columns (x', y')\n",
    "    return transformed_coords[:, :2]"
   ]
  },
  {
   "cell_type": "code",
   "execution_count": 9,
   "metadata": {},
   "outputs": [],
   "source": [
    "def show_mesh(mesh, log_map, image_path):\n",
    "    plotter = pv.Plotter()\n",
    "    faces_with_sizes = np.hstack([np.full((mesh.faces.shape[0], 1), 3), mesh.faces]).flatten()\n",
    "    pv_mesh = pv.PolyData(mesh.vertices, faces_with_sizes)\n",
    "\n",
    "    sources = np.array([11000])\n",
    "    plotter.add_points(mesh.vertices[sources].reshape(sources.shape[0], 3), color=\"red\", render_points_as_spheres=True, point_size=10)\n",
    "\n",
    "    log_map = transform_coordinates(log_map, 2.5, 2.5, 0, 0, -2.2)\n",
    "    colors = get_colors_from_image(image_path, log_map)\n",
    "    plotter.add_mesh(pv_mesh, scalars=colors, rgb=True)\n",
    "    plotter.show(title=\"Geodesic Distance Visualization\")\n",
    "    plotter.close()"
   ]
  },
  {
   "cell_type": "code",
   "execution_count": 10,
   "metadata": {},
   "outputs": [
    {
     "data": {
      "application/vnd.jupyter.widget-view+json": {
       "model_id": "c616ef03ea6d4821994efa046cea880e",
       "version_major": 2,
       "version_minor": 0
      },
      "text/plain": [
       "Widget(value='<iframe src=\"http://localhost:58371/index.html?ui=P_0x24d3686fe50_1&reconnect=auto\" class=\"pyvis…"
      ]
     },
     "metadata": {},
     "output_type": "display_data"
    }
   ],
   "source": [
    "mesh_name = 'human.obj'\n",
    "mesh = trimesh.load(mesh_name)\n",
    "log_map = get_logmap(mesh, 11000)\n",
    "show_mesh(mesh, log_map, 'spiderman-logo.jpg')"
   ]
  }
 ],
 "metadata": {
  "kernelspec": {
   "display_name": "base",
   "language": "python",
   "name": "python3"
  },
  "language_info": {
   "codemirror_mode": {
    "name": "ipython",
    "version": 3
   },
   "file_extension": ".py",
   "mimetype": "text/x-python",
   "name": "python",
   "nbconvert_exporter": "python",
   "pygments_lexer": "ipython3",
   "version": "3.10.15"
  }
 },
 "nbformat": 4,
 "nbformat_minor": 2
}
